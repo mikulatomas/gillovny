{
 "cells": [
  {
   "cell_type": "code",
   "execution_count": 1,
   "metadata": {
    "collapsed": false,
    "deletable": true,
    "editable": true
   },
   "outputs": [],
   "source": [
    "import tweepy\n",
    "import time \n",
    "from tweepy import OAuthHandler"
   ]
  },
  {
   "cell_type": "code",
   "execution_count": 20,
   "metadata": {
    "collapsed": false,
    "deletable": true,
    "editable": true
   },
   "outputs": [],
   "source": [
    "consumerKey = 'QQf8z5FTjSmapX1LDCMOH7VmX'\n",
    "consumerSecret = 'WqowKQ58gv5XI2cbR15Oi3RNXSAw5MRZzbtybesaq7z21AhOOl'\n",
    "accessToken = '873123909863735297-NxgDwRSHCvqRM62hY4jEQicaUaRpT0K'\n",
    "accessSecret = 'JDAmStrec9aOL1QHC8FuSzYU28ppxrLNyMGQLTg7O1pnc'\n",
    "\n",
    "auth = OAuthHandler(consumerKey, consumerSecret)\n",
    "auth.set_access_token(accessToken, accessSecret)\n",
    "\n",
    "api = tweepy.API(auth)\n",
    "\n",
    "# tweets = []\n",
    "\n",
    "# for tweet in tweepy.Cursor(api.search, q='#gillovny', count=10).items():\n",
    "#     tweets.append(tweet)\n",
    "#     print('aaa')\n",
    "    \n",
    "# len(tweets)\n",
    "\n",
    "query = 'gillovny -filter:retweets'  \n",
    " \n",
    "tweets = []\n",
    "for tweet in tweepy.Cursor(api.search, q=query, count=100, include_entities=True, result_type='recent').pages():  \n",
    "    page_count += 1 \n",
    "    tweets.append(tweet)"
   ]
  },
  {
   "cell_type": "code",
   "execution_count": 21,
   "metadata": {
    "collapsed": false,
    "deletable": true,
    "editable": true
   },
   "outputs": [
    {
     "name": "stdout",
     "output_type": "stream",
     "text": [
      "100\n",
      "62\n"
     ]
    }
   ],
   "source": [
    "for p in tweets:\n",
    "    print(len(p))"
   ]
  },
  {
   "cell_type": "code",
   "execution_count": 4,
   "metadata": {
    "collapsed": false,
    "deletable": true,
    "editable": true
   },
   "outputs": [
    {
     "ename": "AttributeError",
     "evalue": "'SearchResults' object has no attribute 'in_reply_to_user_id_str'",
     "output_type": "error",
     "traceback": [
      "\u001b[0;31m---------------------------------------------------------------------------\u001b[0m",
      "\u001b[0;31mAttributeError\u001b[0m                            Traceback (most recent call last)",
      "\u001b[0;32m<ipython-input-4-eac1cbf1a10b>\u001b[0m in \u001b[0;36m<module>\u001b[0;34m\u001b[0m\n\u001b[0;32m----> 1\u001b[0;31m \u001b[0mprint\u001b[0m\u001b[0;34m(\u001b[0m\u001b[0mtweets\u001b[0m\u001b[0;34m[\u001b[0m\u001b[0;36m0\u001b[0m\u001b[0;34m]\u001b[0m\u001b[0;34m.\u001b[0m\u001b[0min_reply_to_user_id_str\u001b[0m\u001b[0;34m)\u001b[0m\u001b[0;34m\u001b[0m\u001b[0m\n\u001b[0m\u001b[1;32m      2\u001b[0m \u001b[0mprint\u001b[0m\u001b[0;34m(\u001b[0m\u001b[0mtweets\u001b[0m\u001b[0;34m[\u001b[0m\u001b[0;36m0\u001b[0m\u001b[0;34m]\u001b[0m\u001b[0;34m.\u001b[0m\u001b[0mtext\u001b[0m\u001b[0;34m)\u001b[0m\u001b[0;34m\u001b[0m\u001b[0m\n\u001b[1;32m      3\u001b[0m \u001b[0mprint\u001b[0m\u001b[0;34m(\u001b[0m\u001b[0mtweets\u001b[0m\u001b[0;34m[\u001b[0m\u001b[0;36m0\u001b[0m\u001b[0;34m]\u001b[0m\u001b[0;34m.\u001b[0m\u001b[0mextended_entities\u001b[0m\u001b[0;34m[\u001b[0m\u001b[0;34m'media'\u001b[0m\u001b[0;34m]\u001b[0m\u001b[0;34m[\u001b[0m\u001b[0;36m0\u001b[0m\u001b[0;34m]\u001b[0m\u001b[0;34m[\u001b[0m\u001b[0;34m'media_url'\u001b[0m\u001b[0;34m]\u001b[0m\u001b[0;34m)\u001b[0m\u001b[0;34m\u001b[0m\u001b[0m\n",
      "\u001b[0;31mAttributeError\u001b[0m: 'SearchResults' object has no attribute 'in_reply_to_user_id_str'"
     ]
    }
   ],
   "source": [
    "print(tweets[0].in_reply_to_user_id_str)\n",
    "print(tweets[0].text)\n",
    "print(tweets[0].extended_entities['media'][0]['media_url'])"
   ]
  },
  {
   "cell_type": "code",
   "execution_count": null,
   "metadata": {
    "collapsed": false,
    "deletable": true,
    "editable": true
   },
   "outputs": [],
   "source": [
    "for tweet in tweets:\n",
    "    if (not tweet.retweeted) and ('RT @' not in tweet.text) and (tweet.text[0] != '@'):\n",
    "        print(tweet.text)\n",
    "        \n",
    "        try:\n",
    "            print('IMAGE:')\n",
    "            print(tweet.extended_entities['media'][0]['media_url'])\n",
    "        except:\n",
    "            pass\n",
    "        print('///')\n",
    "#     "
   ]
  }
 ],
 "metadata": {
  "kernelspec": {
   "display_name": "gillovny",
   "language": "python",
   "name": "gillovny"
  },
  "language_info": {
   "codemirror_mode": {
    "name": "ipython",
    "version": 3
   },
   "file_extension": ".py",
   "mimetype": "text/x-python",
   "name": "python",
   "nbconvert_exporter": "python",
   "pygments_lexer": "ipython3",
   "version": "3.6.0"
  }
 },
 "nbformat": 4,
 "nbformat_minor": 2
}
